{
 "cells": [
  {
   "cell_type": "code",
   "execution_count": 1,
   "metadata": {},
   "outputs": [],
   "source": [
    "import pyodbc\n",
    "cnxn = pyodbc.connect('DRIVER={ODBC Driver 17 for SQL Server};SERVER=localhost;DATABASE=master;UID=SA;PWD=Nabikhani@723')\n",
    "\n"
   ]
  },
  {
   "cell_type": "code",
   "execution_count": 2,
   "metadata": {},
   "outputs": [],
   "source": [
    "cursor = cnxn.cursor()"
   ]
  },
  {
   "cell_type": "code",
   "execution_count": 3,
   "metadata": {},
   "outputs": [],
   "source": [
    "sql = \"\"\"\\\n",
    "SELECT UserId, Count, Date from ActivitySession\n",
    "WHERE Id < 100000\n",
    "\"\"\"\n",
    "\n",
    "\n",
    "rows = cursor.execute(sql)"
   ]
  },
  {
   "cell_type": "code",
   "execution_count": 4,
   "metadata": {},
   "outputs": [],
   "source": [
    "import csv"
   ]
  },
  {
   "cell_type": "code",
   "execution_count": 5,
   "metadata": {},
   "outputs": [
    {
     "name": "stdout",
     "output_type": "stream",
     "text": [
      "(('UserId', <class 'int'>, None, 19, 19, 0, False), ('Count', <class 'int'>, None, 3, 3, 0, False), ('Date', <class 'datetime.date'>, None, 10, 10, 0, False))\n"
     ]
    }
   ],
   "source": [
    "print(cursor.description)"
   ]
  },
  {
   "cell_type": "code",
   "execution_count": 6,
   "metadata": {},
   "outputs": [],
   "source": [
    "user_sql = \"\"\"\\\n",
    "SELECT DISTINCT UserId\n",
    "FROM ActivitySession\n",
    "where Id < 572072\n",
    "\"\"\"\n",
    "user_rows = cursor.execute(user_sql)"
   ]
  },
  {
   "cell_type": "code",
   "execution_count": 7,
   "metadata": {},
   "outputs": [
    {
     "name": "stdout",
     "output_type": "stream",
     "text": [
      "151508\n"
     ]
    }
   ],
   "source": [
    "userId = [i.UserId for i in user_rows]\n",
    "print(len(userId))"
   ]
  },
  {
   "cell_type": "code",
   "execution_count": 8,
   "metadata": {},
   "outputs": [],
   "source": [
    "date_sql = \"\"\"\\\n",
    "SELECT DISTINCT Date\n",
    "FROM ActivitySession\n",
    "where Id < 572072\n",
    "\"\"\"\n",
    "date_rows = cursor.execute(date_sql)"
   ]
  },
  {
   "cell_type": "code",
   "execution_count": 9,
   "metadata": {},
   "outputs": [
    {
     "name": "stdout",
     "output_type": "stream",
     "text": [
      "[datetime.date(2016, 10, 25), datetime.date(2016, 10, 26), datetime.date(2016, 10, 27), datetime.date(2016, 10, 28), datetime.date(2016, 10, 29), datetime.date(2016, 10, 30), datetime.date(2016, 10, 31), datetime.date(2016, 11, 1), datetime.date(2016, 11, 2), datetime.date(2016, 11, 3), datetime.date(2016, 11, 4), datetime.date(2016, 11, 5), datetime.date(2016, 11, 6), datetime.date(2016, 11, 7), datetime.date(2016, 11, 8), datetime.date(2016, 11, 9), datetime.date(2016, 11, 10), datetime.date(2016, 11, 11), datetime.date(2016, 11, 12), datetime.date(2016, 11, 13), datetime.date(2016, 11, 14), datetime.date(2016, 11, 15), datetime.date(2016, 11, 16), datetime.date(2016, 11, 17), datetime.date(2016, 11, 18), datetime.date(2016, 11, 19), datetime.date(2016, 11, 20), datetime.date(2016, 11, 21), datetime.date(2016, 11, 22), datetime.date(2016, 11, 23)]\n",
      "['2016-10-25', '2016-10-26', '2016-10-27', '2016-10-28', '2016-10-29', '2016-10-30', '2016-10-31', '2016-11-01', '2016-11-02', '2016-11-03', '2016-11-04', '2016-11-05', '2016-11-06', '2016-11-07', '2016-11-08', '2016-11-09', '2016-11-10', '2016-11-11', '2016-11-12', '2016-11-13', '2016-11-14', '2016-11-15', '2016-11-16', '2016-11-17', '2016-11-18', '2016-11-19', '2016-11-20', '2016-11-21', '2016-11-22', '2016-11-23']\n"
     ]
    }
   ],
   "source": [
    "# dates = []\n",
    "# j=0\n",
    "# for i in date_rows:\n",
    "#     if not i:\n",
    "#         break\n",
    "#     dates[j] = i\n",
    "    \n",
    "#     j+=1\n",
    "# print(dates)\n",
    "dates_for_query = [i.Date for i in date_rows]\n",
    "dates = [i.strftime('%Y-%m-%d') for i in dates_for_query]\n",
    "print(dates_for_query)\n",
    "print(dates)"
   ]
  },
  {
   "cell_type": "code",
   "execution_count": null,
   "metadata": {},
   "outputs": [],
   "source": [
    "count_sql = \"\"\"\\\n",
    "SELECT Count\n",
    "FROM ActivitySession\n",
    "where UserId=%d AND Date='%s' \n",
    "\"\"\"\n",
    "\n",
    "count_sql1 = \"\"\"\\\n",
    "SELECT Count , Date\n",
    "FROM ActivitySession\n",
    "where UserId=%d \n",
    "\"\"\"\n",
    "\n",
    "\n",
    "# print(count_sql%(userId[0],dates_for_query[3]))\n",
    "# rr_rows = cursor.execute(\"\"\"\\\n",
    "# SELECT Count\n",
    "# FROM ActivitySession\n",
    "# where Id=2 AND  Date='2016-10-25'\n",
    "# \"\"\")\n",
    "\n",
    "# rr_rows = cursor.execute(\"\"\"\\\n",
    "# SELECT Count\n",
    "# FROM ActivitySession\n",
    "# where Id=%d AND  Date='%s'\n",
    "# \"\"\"%(2,'2016-10-25'))\n",
    "\n",
    "# rr_rows = cursor.execute(\"\"\"\\\n",
    "# SELECT Count, Date\n",
    "# FROM ActivitySession\n",
    "# where UserId=4588434 AND Date <='2016-11-23'\n",
    "# \"\"\")\n",
    "\n",
    "\n",
    "\n",
    "# a = rr_rows.fetchall()\n",
    "# # print(a)\n",
    "# for k in dates_for_query:\n",
    "#     not_found = True\n",
    "#     for m in a:\n",
    "#         if k == m.Date:\n",
    "#             print(\"Found\")\n",
    "#             not_found = False\n",
    "#     if not_found:\n",
    "#         print(\"no\")\n",
    "        \n",
    "            \n",
    "            \n",
    "\n",
    "\n",
    "# if not a:\n",
    "#     print(\"d\")\n",
    "# else:\n",
    "#     print(a.Count)\n",
    "\n",
    "# for i in rr_rows:\n",
    "    \n",
    "    \n",
    "#     print(\"sd\")\n",
    "# print(len(rr_rows))\n",
    "\n",
    "with open(r'new_datas.csv', 'w', newline='') as csvfile:\n",
    "    writer = csv.writer(csvfile)\n",
    "    writer.writerow([\"UserId\"] + dates)  # column headers\n",
    "    for i in userId:\n",
    "        userrow = [i]\n",
    "        new_sql1 = count_sql1%(i)\n",
    "        get_count1 = cursor.execute(new_sql1)\n",
    "        get_data = get_count1.fetchall()\n",
    "        for k in dates_for_query:\n",
    "            not_found = True\n",
    "            for m in get_data:\n",
    "                if k == m.Date:\n",
    "                    userrow.append(m.Count)\n",
    "                    not_found = False\n",
    "            if not_found:\n",
    "                userrow.append(0)\n",
    "\n",
    "        writer.writerow(userrow)\n",
    "\n",
    "        \n",
    "        \n",
    "        \n",
    "                    \n",
    "            \n",
    "        \n",
    "        \n",
    "# #         for j in dates:\n",
    "# #             new_sql = count_sql%(i,j)\n",
    "# #             get_count = cursor.execute(new_sql)\n",
    "# # #             print(count_sql%(i,j))\n",
    "# #             exist = get_count.fetchone()\n",
    "# #             if exist:\n",
    "# #                 userrow.append(exist.Count)\n",
    "# #             else:\n",
    "# #                 userrow.append(0)\n",
    "    \n",
    "    "
   ]
  },
  {
   "cell_type": "code",
   "execution_count": 51,
   "metadata": {},
   "outputs": [],
   "source": []
  },
  {
   "cell_type": "code",
   "execution_count": null,
   "metadata": {},
   "outputs": [],
   "source": []
  }
 ],
 "metadata": {
  "kernelspec": {
   "display_name": "Python 3",
   "language": "python",
   "name": "python3"
  },
  "language_info": {
   "codemirror_mode": {
    "name": "ipython",
    "version": 3
   },
   "file_extension": ".py",
   "mimetype": "text/x-python",
   "name": "python",
   "nbconvert_exporter": "python",
   "pygments_lexer": "ipython3",
   "version": "3.6.3"
  }
 },
 "nbformat": 4,
 "nbformat_minor": 2
}
